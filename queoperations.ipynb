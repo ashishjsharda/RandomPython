{
  "cells":[
    {
      "cell_type":"code",
      "source":[
        "from collections import deque\n",
        "df=deque(range(10),maxlen=10)\n",
        "df"
      ],
      "execution_count":2,
      "outputs":[
        {
          "data":{
            "text\/plain":[
              "deque([7, 8, 9, 0, 1, 2, 3, 4, 5, 6])"
            ]
          },
          "metadata":{
            
          },
          "output_type":"display_data"
        }
      ],
      "metadata":{
        
      }
    },
    {
      "cell_type":"code",
      "source":[
        "df.rotate(3)\n",
        "df"
      ],
      "execution_count":3,
      "outputs":[
        {
          "data":{
            "text\/plain":[
              "deque([4, 5, 6, 7, 8, 9, 0, 1, 2, 3])"
            ]
          },
          "metadata":{
            
          },
          "output_type":"display_data"
        }
      ],
      "metadata":{
        
      }
    },
    {
      "cell_type":"code",
      "source":[
        "df.appendleft([10,20,30,40])\n",
        "df"
      ],
      "execution_count":4,
      "outputs":[
        {
          "data":{
            "text\/plain":[
              "deque([[10, 20, 30, 40], 4, 5, 6, 7, 8, 9, 0, 1, 2])"
            ]
          },
          "metadata":{
            
          },
          "output_type":"display_data"
        }
      ],
      "metadata":{
        
      }
    },
    {
      "cell_type":"code",
      "source":[
        "df.extendleft([50,60])\n",
        "df"
      ],
      "execution_count":5,
      "outputs":[
        {
          "data":{
            "text\/plain":[
              "deque([60, 50, [10, 20, 30, 40], 4, 5, 6, 7, 8, 9, 0])"
            ]
          },
          "metadata":{
            
          },
          "output_type":"display_data"
        }
      ],
      "metadata":{
        
      }
    }
  ],
  "metadata":{
    
  },
  "nbformat":4,
  "nbformat_minor":0
}