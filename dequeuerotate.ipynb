{
  "cells":[
    {
      "cell_type":"code",
      "source":[
        "from collections import deque\n",
        "df=deque(range(10),maxlen=10)\n",
        "df\n",
        "df.rotate(3)\n",
        "df"
      ],
      "execution_count":2,
      "outputs":[
        {
          "data":{
            "text\/plain":[
              "deque([7, 8, 9, 0, 1, 2, 3, 4, 5, 6])"
            ]
          },
          "metadata":{
            
          },
          "output_type":"display_data"
        }
      ],
      "metadata":{
        
      }
    }
  ],
  "metadata":{
    
  },
  "nbformat":4,
  "nbformat_minor":0
}