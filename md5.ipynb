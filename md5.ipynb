{
 "cells":[
  {
   "cell_type":"code",
   "source":[
    "import hashlib\n",
    "result=hashlib.md5(b\"Austin\")\n",
    "#print byte value\n",
    "print(result)"
   ],
   "execution_count":3,
   "outputs":[
    {
     "name":"stdout",
     "text":[
      "<md5 HASH object @ 0x7f92a42fed90>\n"
     ],
     "output_type":"stream"
    }
   ],
   "metadata":{
    "datalore":{
     "type":"CODE",
     "hide_input_from_viewers":false,
     "hide_output_from_viewers":false
    }
   }
  }
 ],
 "metadata":{
  "datalore":{
   "version":1,
   "computation_mode":"JUPYTER",
   "package_manager":"pip",
   "base_environment":"default",
   "packages":[
    
   ]
  }
 },
 "nbformat":4,
 "nbformat_minor":4
}