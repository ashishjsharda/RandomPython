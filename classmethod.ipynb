{
 "cells":[
  {
   "cell_type":"code",
   "source":[
    "class Book:\n",
    "    TYPES=(\"hardcover\",\"paperback\")\n",
    "\n",
    "    def __init__(self,name,book_type,weight):\n",
    "        self.name=name\n",
    "        self.book_type=book_type\n",
    "        self.weight=weight\n",
    "\n",
    "    def __repr__(self):\n",
    "        return f\"<Book Name {self.name},{self.book_type},weighing{self.weight}g>\"\n",
    "    @classmethod\n",
    "    def hardcover(cls,name,pageweight):\n",
    "        return Book(name,Book.TYPES[0],pageweight+100)\n",
    "    \n",
    "book =Book(\"Harry Potter\",\"comic book\",100)\n",
    "\n",
    "print(book)"
   ],
   "execution_count":1,
   "outputs":[
    {
     "name":"stdout",
     "text":[
      "<Book Name Harry Potter,comic book,weighing100g>\n"
     ],
     "output_type":"stream"
    }
   ],
   "metadata":{
    "datalore":{
     "type":"CODE",
     "hide_input_from_viewers":false,
     "hide_output_from_viewers":false
    }
   }
  }
 ],
 "metadata":{
  "datalore":{
   "version":1,
   "computation_mode":"JUPYTER",
   "package_manager":"pip",
   "base_environment":"default",
   "packages":[
    
   ]
  }
 },
 "nbformat":4,
 "nbformat_minor":4
}